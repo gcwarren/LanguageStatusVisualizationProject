{
 "cells": [
  {
   "cell_type": "code",
   "execution_count": 309,
   "metadata": {},
   "outputs": [],
   "source": [
    "import pandas as pd \n",
    "\n",
    "extinct_langs = pd.read_csv('../csv_files/extinct_languages_with_info.csv', index_col=0)\n",
    "\n",
    "wiki_langs = pd.read_csv('../csv_files/wiki_languages_most_recent.csv', index_col=0)\n",
    "\n",
    "region_langs = pd.read_csv('../csv_files/wiki_languages_most_recent.csv', index_col=0)"
   ]
  },
  {
   "cell_type": "code",
   "execution_count": 310,
   "metadata": {},
   "outputs": [],
   "source": [
    "# # import the iso6393.js file into pandas \n",
    "\n",
    "# iso6393 = pd.read_csv('iso6393.js', sep=':', header=None)\n"
   ]
  },
  {
   "cell_type": "markdown",
   "metadata": {},
   "source": [
    "# Clean Wikipedia Languages Links"
   ]
  },
  {
   "cell_type": "code",
   "execution_count": 311,
   "metadata": {},
   "outputs": [],
   "source": [
    "def remove(s):\n",
    "    digits = \"0123456789\"\n",
    "    for i in digits:\n",
    "        s = s.replace(i, \"\")\n",
    "    return s"
   ]
  },
  {
   "cell_type": "code",
   "execution_count": 314,
   "metadata": {},
   "outputs": [],
   "source": [
    "wiki_langs['family'] = wiki_langs['family'].apply(lambda x: str(x).replace('nan', 'Uknown'))\n",
    "wiki_langs['family'] = wiki_langs['family'].apply(lambda x: str(x).replace('[', ''))\n",
    "wiki_langs['family'] = wiki_langs['family'].apply(lambda x: str(x).replace(']', ''))\n",
    "wiki_langs['family'] = wiki_langs['family'].apply(lambda x: str(x).replace(\"'\", ''))\n",
    "wiki_langs['family'] = wiki_langs['family'].apply(lambda x: str(x).replace(\"?\", ''))\n",
    "wiki_langs['family'] = wiki_langs['family'].apply(lambda x: str(x).replace(\"\\n\", ''))\n",
    "wiki_langs['family'] = wiki_langs['family'].apply(lambda x: str(x).replace(\"\\\\n\", ''))\n",
    "wiki_langs['family'] = wiki_langs['family'].apply(lambda x: str(x).replace(\",,\", ','))\n",
    "wiki_langs['family'] = wiki_langs['family'].apply(lambda x: str(x).replace(\" , \", ''))\n",
    "wiki_langs['family'] = wiki_langs['family'].apply(lambda x: str(x).replace(\" (),\", ''))\n",
    "wiki_langs['family'] = wiki_langs['family'].apply(lambda x: remove(x))"
   ]
  },
  {
   "cell_type": "code",
   "execution_count": 315,
   "metadata": {},
   "outputs": [],
   "source": [
    "wiki_langs['dialects'] = wiki_langs['dialects'].apply(lambda x: str(x).replace('nan', 'Uknown'))\n",
    "wiki_langs['dialects'] = wiki_langs['dialects'].apply(lambda x: str(x).replace('[', ''))\n",
    "wiki_langs['dialects'] = wiki_langs['dialects'].apply(lambda x: str(x).replace(']', ''))\n",
    "wiki_langs['dialects'] = wiki_langs['dialects'].apply(lambda x: str(x).replace(\"'\", ''))\n",
    "wiki_langs['dialects'] = wiki_langs['dialects'].apply(lambda x: str(x).replace(\"?\", ''))\n",
    "wiki_langs['dialects'] = wiki_langs['dialects'].apply(lambda x: str(x).replace(\"\\n\", ''))\n",
    "wiki_langs['dialects'] = wiki_langs['dialects'].apply(lambda x: str(x).replace(\"\\\\n\", ''))\n",
    "wiki_langs['dialects'] = wiki_langs['dialects'].apply(lambda x: str(x).replace(\",,\", ','))\n",
    "wiki_langs['dialects'] = wiki_langs['dialects'].apply(lambda x: str(x).replace(\" , \", ''))\n",
    "wiki_langs['dialects'] = wiki_langs['dialects'].apply(lambda x: str(x).replace(\" (),\", ''))\n",
    "wiki_langs['dialects'] = wiki_langs['dialects'].apply(lambda x: remove(x))"
   ]
  },
  {
   "cell_type": "code",
   "execution_count": 316,
   "metadata": {},
   "outputs": [],
   "source": [
    "wiki_langs['iso3code'] = wiki_langs['iso3code'].apply(lambda x: str(x).replace('nan', 'Not provided'))\n",
    "\n"
   ]
  },
  {
   "cell_type": "code",
   "execution_count": 317,
   "metadata": {},
   "outputs": [],
   "source": [
    "# return to iso3codes column"
   ]
  },
  {
   "cell_type": "code",
   "execution_count": 318,
   "metadata": {},
   "outputs": [],
   "source": [
    "wiki_langs['speakers'] = wiki_langs['speakers'].apply(lambda x: str(x).replace('nan', 'Uknown')) \n",
    "wiki_langs['speakers'] = wiki_langs['speakers'].apply(lambda x: str(x).split('(')[0]) "
   ]
  },
  {
   "cell_type": "code",
   "execution_count": 319,
   "metadata": {},
   "outputs": [],
   "source": [
    "wiki_langs['off_lang'] = wiki_langs['off_lang'].apply(lambda x: str(x).replace('nan', 'Unknown'))\n",
    "wiki_langs['off_lang'] = wiki_langs['off_lang'].apply(lambda x: str(x).replace('\\xa0', ' '))\n",
    "wiki_langs['off_lang'] = wiki_langs['off_lang'].apply(lambda x: str(x).replace('[', ''))\n",
    "wiki_langs['off_lang'] = wiki_langs['off_lang'].apply(lambda x: str(x).replace(']', ''))\n",
    "wiki_langs['off_lang'] = wiki_langs['off_lang'].apply(lambda x: remove(x))"
   ]
  },
  {
   "cell_type": "code",
   "execution_count": 320,
   "metadata": {},
   "outputs": [],
   "source": [
    "wiki_langs['rec_min_lang'] = wiki_langs['rec_min_lang'].apply(lambda x: str(x).replace('nan', 'Unknown'))\n",
    "wiki_langs['rec_min_lang'] = wiki_langs['rec_min_lang'].apply(lambda x: str(x).replace('\\xa0', ' '))\n",
    "wiki_langs['rec_min_lang'] = wiki_langs['rec_min_lang'].apply(lambda x: str(x).replace('[', ''))\n",
    "wiki_langs['rec_min_lang'] = wiki_langs['rec_min_lang'].apply(lambda x: str(x).replace(']', ''))\n",
    "wiki_langs['rec_min_lang'] = wiki_langs['rec_min_lang'].apply(lambda x: remove(x))"
   ]
  },
  {
   "cell_type": "code",
   "execution_count": 321,
   "metadata": {},
   "outputs": [],
   "source": [
    "wiki_langs.to_csv('../csv_files/wiki_languages_most_recent.csv')"
   ]
  },
  {
   "cell_type": "markdown",
   "metadata": {},
   "source": [
    "# Cleaning Extinct Languages Links"
   ]
  },
  {
   "cell_type": "code",
   "execution_count": 322,
   "metadata": {},
   "outputs": [],
   "source": [
    "extinct_langs['family'] = extinct_langs['family'].apply(lambda x: str(x).replace('nan', 'Uknown'))\n",
    "extinct_langs['family'] = extinct_langs['family'].apply(lambda x: str(x).replace('[', ''))\n",
    "extinct_langs['family'] = extinct_langs['family'].apply(lambda x: str(x).replace(']', ''))\n",
    "extinct_langs['family'] = extinct_langs['family'].apply(lambda x: str(x).replace(\"'\", ''))\n",
    "extinct_langs['family'] = extinct_langs['family'].apply(lambda x: str(x).replace(\"?\", ''))\n",
    "extinct_langs['family'] = extinct_langs['family'].apply(lambda x: str(x).replace(\"\\n\", ''))\n",
    "extinct_langs['family'] = extinct_langs['family'].apply(lambda x: str(x).replace(\"\\\\n\", ''))\n",
    "extinct_langs['family'] = extinct_langs['family'].apply(lambda x: str(x).replace(\",,\", ','))\n",
    "extinct_langs['family'] = extinct_langs['family'].apply(lambda x: str(x).replace(\" , \", ''))\n",
    "extinct_langs['family'] = extinct_langs['family'].apply(lambda x: str(x).replace(\" (),\", ''))\n",
    "extinct_langs['family'] = extinct_langs['family'].apply(lambda x: remove(x))"
   ]
  },
  {
   "cell_type": "code",
   "execution_count": 323,
   "metadata": {},
   "outputs": [],
   "source": [
    "extinct_langs['dialects'] = extinct_langs['dialects'].apply(lambda x: str(x).replace('nan', 'Uknown'))\n",
    "extinct_langs['dialects'] = extinct_langs['dialects'].apply(lambda x: str(x).replace('[', ''))\n",
    "extinct_langs['dialects'] = extinct_langs['dialects'].apply(lambda x: str(x).replace(']', ''))\n",
    "extinct_langs['dialects'] = extinct_langs['dialects'].apply(lambda x: str(x).replace(\"'\", ''))\n",
    "extinct_langs['dialects'] = extinct_langs['dialects'].apply(lambda x: str(x).replace(\"?\", ''))\n",
    "extinct_langs['dialects'] = extinct_langs['dialects'].apply(lambda x: str(x).replace(\"\\n\", ''))\n",
    "extinct_langs['dialects'] = extinct_langs['dialects'].apply(lambda x: str(x).replace(\"\\\\n\", ''))\n",
    "extinct_langs['dialects'] = extinct_langs['dialects'].apply(lambda x: str(x).replace(\",,\", ','))\n",
    "extinct_langs['dialects'] = extinct_langs['dialects'].apply(lambda x: str(x).replace(\" , \", ''))\n",
    "extinct_langs['dialects'] = extinct_langs['dialects'].apply(lambda x: str(x).replace(\" (),\", ''))\n",
    "extinct_langs['dialects'] = extinct_langs['dialects'].apply(lambda x: remove(x))"
   ]
  },
  {
   "cell_type": "code",
   "execution_count": 324,
   "metadata": {},
   "outputs": [],
   "source": [
    "extinct_langs['iso3code'] = extinct_langs['iso3code'].apply(lambda x: str(x).replace('nan', 'Not provided'))"
   ]
  },
  {
   "cell_type": "code",
   "execution_count": 325,
   "metadata": {},
   "outputs": [],
   "source": [
    "# return to iso3codes column"
   ]
  },
  {
   "cell_type": "code",
   "execution_count": 326,
   "metadata": {},
   "outputs": [],
   "source": [
    "extinct_langs['speakers'] = extinct_langs['speakers'].apply(lambda x: str(x).replace('nan', 'Uknown')) \n",
    "extinct_langs['speakers'] = extinct_langs['speakers'].apply(lambda x: str(x).split('(')[0]) "
   ]
  },
  {
   "cell_type": "code",
   "execution_count": 327,
   "metadata": {},
   "outputs": [],
   "source": [
    "def remove(s):\n",
    "    digits = \"0123456789\"\n",
    "    for i in digits:\n",
    "        s = s.replace(i, \"\")\n",
    "    return s"
   ]
  },
  {
   "cell_type": "code",
   "execution_count": 328,
   "metadata": {},
   "outputs": [],
   "source": [
    "extinct_langs['off_lang'] = extinct_langs['off_lang'].apply(lambda x: str(x).replace('nan', 'Unknown'))\n",
    "extinct_langs['off_lang'] = extinct_langs['off_lang'].apply(lambda x: str(x).replace('\\xa0', ' '))\n",
    "extinct_langs['off_lang'] = extinct_langs['off_lang'].apply(lambda x: str(x).replace('[', ''))\n",
    "extinct_langs['off_lang'] = extinct_langs['off_lang'].apply(lambda x: str(x).replace(']', ''))\n",
    "extinct_langs['off_lang'] = extinct_langs['off_lang'].apply(lambda x: remove(x))"
   ]
  },
  {
   "cell_type": "code",
   "execution_count": 329,
   "metadata": {},
   "outputs": [],
   "source": [
    "extinct_langs['rec_min_lang'] = extinct_langs['rec_min_lang'].apply(lambda x: str(x).replace('nan', 'Unknown'))\n",
    "extinct_langs['rec_min_lang'] = extinct_langs['rec_min_lang'].apply(lambda x: str(x).replace('\\xa0', ' '))\n",
    "extinct_langs['rec_min_lang'] = extinct_langs['rec_min_lang'].apply(lambda x: str(x).replace('[', ''))\n",
    "extinct_langs['rec_min_lang'] = extinct_langs['rec_min_lang'].apply(lambda x: str(x).replace(']', ''))\n",
    "extinct_langs['rec_min_lang'] = extinct_langs['rec_min_lang'].apply(lambda x: remove(x))"
   ]
  },
  {
   "cell_type": "code",
   "execution_count": 330,
   "metadata": {},
   "outputs": [
    {
     "data": {
      "text/html": [
       "<div>\n",
       "<style scoped>\n",
       "    .dataframe tbody tr th:only-of-type {\n",
       "        vertical-align: middle;\n",
       "    }\n",
       "\n",
       "    .dataframe tbody tr th {\n",
       "        vertical-align: top;\n",
       "    }\n",
       "\n",
       "    .dataframe thead th {\n",
       "        text-align: right;\n",
       "    }\n",
       "</style>\n",
       "<table border=\"1\" class=\"dataframe\">\n",
       "  <thead>\n",
       "    <tr style=\"text-align: right;\">\n",
       "      <th></th>\n",
       "      <th>lang</th>\n",
       "      <th>family</th>\n",
       "      <th>dialects</th>\n",
       "      <th>iso3code</th>\n",
       "      <th>glottocode</th>\n",
       "      <th>speakers</th>\n",
       "      <th>regions</th>\n",
       "      <th>off_lang</th>\n",
       "      <th>rec_min_lang</th>\n",
       "      <th>url</th>\n",
       "    </tr>\n",
       "  </thead>\n",
       "  <tbody>\n",
       "    <tr>\n",
       "      <th>0</th>\n",
       "      <td>Wantoat</td>\n",
       "      <td>Trans–New Guinea, Finisterre–Huon, Finisterre,...</td>\n",
       "      <td>Trans–New Guinea, Finisterre–Huon, Finisterre,...</td>\n",
       "      <td>wnc</td>\n",
       "      <td>want1252</td>\n",
       "      <td>Uknown</td>\n",
       "      <td>Morobe Province</td>\n",
       "      <td>Unknown</td>\n",
       "      <td>Unknown</td>\n",
       "      <td>https://en.wikipedia.org/wiki/Taap_language</td>\n",
       "    </tr>\n",
       "    <tr>\n",
       "      <th>1</th>\n",
       "      <td>Yamuna_in_Hinduism</td>\n",
       "      <td>Uknown</td>\n",
       "      <td>Uknown</td>\n",
       "      <td>Not provided</td>\n",
       "      <td>NaN</td>\n",
       "      <td>Uknown</td>\n",
       "      <td>NaN</td>\n",
       "      <td>Unknown</td>\n",
       "      <td>Unknown</td>\n",
       "      <td>https://en.wikipedia.org/wiki/Yamuna_in_Hinduism</td>\n",
       "    </tr>\n",
       "    <tr>\n",
       "      <th>2</th>\n",
       "      <td>Judeo-tamazight</td>\n",
       "      <td>Afro-Asiatic, tamazight, Northern tamazight, A...</td>\n",
       "      <td>Afro-Asiatic, tamazight, Northern tamazight, A...</td>\n",
       "      <td>jbe</td>\n",
       "      <td>(insufficiently attested or not a distinct lan...</td>\n",
       "      <td>none[1]L2 speakers: 3,000</td>\n",
       "      <td>Israel</td>\n",
       "      <td>Unknown</td>\n",
       "      <td>Unknown</td>\n",
       "      <td>https://en.wikipedia.org/wiki/Judeo-Berber_lan...</td>\n",
       "    </tr>\n",
       "    <tr>\n",
       "      <th>3</th>\n",
       "      <td>Uhunduni</td>\n",
       "      <td>Trans–New Guinea, West Papuan Highlands,  (Iri...</td>\n",
       "      <td>Trans–New Guinea, West Papuan Highlands,  (Iri...</td>\n",
       "      <td>uhn</td>\n",
       "      <td>dama1272</td>\n",
       "      <td>14,000</td>\n",
       "      <td>Central Papua: central highlands, Paniai Regen...</td>\n",
       "      <td>Unknown</td>\n",
       "      <td>Unknown</td>\n",
       "      <td>https://en.wikipedia.org/wiki/Uhunduni_language</td>\n",
       "    </tr>\n",
       "    <tr>\n",
       "      <th>4</th>\n",
       "      <td>Chulym</td>\n",
       "      <td>Turkic, Common Turkic, Siberian Turkic, South ...</td>\n",
       "      <td>Turkic, Common Turkic, Siberian Turkic, South ...</td>\n",
       "      <td>clw</td>\n",
       "      <td>chul1246</td>\n",
       "      <td>44</td>\n",
       "      <td>Tyukhtetsky District, Teguldetsky District, Kr...</td>\n",
       "      <td>Unknown</td>\n",
       "      <td>Unknown</td>\n",
       "      <td>https://en.wikipedia.org/wiki/Chulym_language</td>\n",
       "    </tr>\n",
       "  </tbody>\n",
       "</table>\n",
       "</div>"
      ],
      "text/plain": [
       "                 lang                                             family  \\\n",
       "0             Wantoat  Trans–New Guinea, Finisterre–Huon, Finisterre,...   \n",
       "1  Yamuna_in_Hinduism                                             Uknown   \n",
       "2     Judeo-tamazight  Afro-Asiatic, tamazight, Northern tamazight, A...   \n",
       "3            Uhunduni  Trans–New Guinea, West Papuan Highlands,  (Iri...   \n",
       "4              Chulym  Turkic, Common Turkic, Siberian Turkic, South ...   \n",
       "\n",
       "                                            dialects      iso3code  \\\n",
       "0  Trans–New Guinea, Finisterre–Huon, Finisterre,...           wnc   \n",
       "1                                             Uknown  Not provided   \n",
       "2  Afro-Asiatic, tamazight, Northern tamazight, A...           jbe   \n",
       "3  Trans–New Guinea, West Papuan Highlands,  (Iri...           uhn   \n",
       "4  Turkic, Common Turkic, Siberian Turkic, South ...           clw   \n",
       "\n",
       "                                          glottocode  \\\n",
       "0                                           want1252   \n",
       "1                                                NaN   \n",
       "2  (insufficiently attested or not a distinct lan...   \n",
       "3                                           dama1272   \n",
       "4                                           chul1246   \n",
       "\n",
       "                     speakers  \\\n",
       "0                      Uknown   \n",
       "1                      Uknown   \n",
       "2  none[1]L2 speakers: 3,000    \n",
       "3                     14,000    \n",
       "4                         44    \n",
       "\n",
       "                                             regions off_lang rec_min_lang  \\\n",
       "0                                    Morobe Province  Unknown      Unknown   \n",
       "1                                                NaN  Unknown      Unknown   \n",
       "2                                             Israel  Unknown      Unknown   \n",
       "3  Central Papua: central highlands, Paniai Regen...  Unknown      Unknown   \n",
       "4  Tyukhtetsky District, Teguldetsky District, Kr...  Unknown      Unknown   \n",
       "\n",
       "                                                 url  \n",
       "0        https://en.wikipedia.org/wiki/Taap_language  \n",
       "1   https://en.wikipedia.org/wiki/Yamuna_in_Hinduism  \n",
       "2  https://en.wikipedia.org/wiki/Judeo-Berber_lan...  \n",
       "3    https://en.wikipedia.org/wiki/Uhunduni_language  \n",
       "4      https://en.wikipedia.org/wiki/Chulym_language  "
      ]
     },
     "execution_count": 330,
     "metadata": {},
     "output_type": "execute_result"
    }
   ],
   "source": [
    "extinct_langs.head()"
   ]
  },
  {
   "cell_type": "code",
   "execution_count": 331,
   "metadata": {},
   "outputs": [
    {
     "name": "stdout",
     "output_type": "stream",
     "text": [
      "1827\n"
     ]
    }
   ],
   "source": [
    "print(len(extinct_langs))"
   ]
  },
  {
   "cell_type": "code",
   "execution_count": 332,
   "metadata": {},
   "outputs": [],
   "source": [
    "extinct_langs.to_csv('../csv_files/extinct_languages_with_info.csv')"
   ]
  },
  {
   "cell_type": "markdown",
   "metadata": {},
   "source": [
    "# Merge Extinct and Wiki Langs"
   ]
  },
  {
   "cell_type": "code",
   "execution_count": 333,
   "metadata": {},
   "outputs": [],
   "source": [
    "wiki_langs = wiki_langs.rename(columns = {'goglottocodettolog':'glottocode'})\n",
    "extinct_langs = extinct_langs.rename(columns = {'goglottocodettolog':'glottocode'})"
   ]
  },
  {
   "cell_type": "code",
   "execution_count": 334,
   "metadata": {},
   "outputs": [
    {
     "data": {
      "text/plain": [
       "['lang',\n",
       " 'family',\n",
       " 'dialects',\n",
       " 'iso3code',\n",
       " 'glottocode',\n",
       " 'speakers',\n",
       " 'regions',\n",
       " 'off_lang',\n",
       " 'rec_min_lang',\n",
       " 'url']"
      ]
     },
     "execution_count": 334,
     "metadata": {},
     "output_type": "execute_result"
    }
   ],
   "source": [
    "wiki_langs.columns.to_list()"
   ]
  },
  {
   "cell_type": "code",
   "execution_count": 335,
   "metadata": {},
   "outputs": [
    {
     "name": "stdout",
     "output_type": "stream",
     "text": [
      "1330\n",
      "1827\n",
      "3157\n",
      "3026\n"
     ]
    }
   ],
   "source": [
    "intersecting_columns = wiki_langs.columns.intersection(extinct_langs.columns).to_list()\n",
    "\n",
    "merged_langs = pd.merge(left = wiki_langs, right = extinct_langs, left_on = intersecting_columns, right_on = intersecting_columns, how = 'outer')\n",
    "print(len(wiki_langs))\n",
    "print(len(extinct_langs))\n",
    "print(len(wiki_langs) + len(extinct_langs))\n",
    "print(len(merged_langs))"
   ]
  },
  {
   "cell_type": "markdown",
   "metadata": {},
   "source": [
    "# Latest Version of Visualization Data"
   ]
  },
  {
   "cell_type": "code",
   "execution_count": 336,
   "metadata": {},
   "outputs": [],
   "source": [
    "merged_langs.to_csv('../csv_files/merged_langs_wiki_extinct.csv')"
   ]
  },
  {
   "cell_type": "code",
   "execution_count": 337,
   "metadata": {},
   "outputs": [],
   "source": [
    "data = pd.read_csv('../csv_files/merged_langs_wiki_extinct.csv', index_col=0)"
   ]
  },
  {
   "cell_type": "code",
   "execution_count": 338,
   "metadata": {},
   "outputs": [],
   "source": [
    "data2 = pd.read_csv('../docs/merged.csv')"
   ]
  },
  {
   "cell_type": "code",
   "execution_count": 344,
   "metadata": {},
   "outputs": [],
   "source": [
    "merged = pd.merge(data2, data, on='glottocode', how='left')"
   ]
  },
  {
   "cell_type": "code",
   "execution_count": 345,
   "metadata": {},
   "outputs": [
    {
     "data": {
      "text/plain": [
       "1338"
      ]
     },
     "execution_count": 345,
     "metadata": {},
     "output_type": "execute_result"
    }
   ],
   "source": [
    "len(merged['family'] == merged['dialects'])\n",
    "len(merged)"
   ]
  },
  {
   "cell_type": "code",
   "execution_count": 346,
   "metadata": {},
   "outputs": [],
   "source": [
    "merged['family'] = merged['family'].apply(lambda x: str(x).replace('\\n', ''))\n",
    "merged['family'] = merged['family'].apply(lambda x: str(x).replace('[', ''))\n",
    "merged['family'] = merged['family'].apply(lambda x: str(x).replace(']', ''))\n",
    "merged['family'] = merged['family'].apply(lambda x: str(x).replace('\\'', ''))\n",
    "merged['family'] = merged['family'].apply(lambda x: str(x).replace('?', ''))\n",
    "merged['family'] = merged['family'].apply(lambda x: str(x).replace('nan', 'Unknown'))\n",
    "merged['family'] = merged['family'].apply(lambda x: str(x).replace('(', ''))\n",
    "merged['family'] = merged['family'].apply(lambda x: str(x).replace(')', ''))\n",
    "merged['family'] = merged['family'].apply(lambda x: str(x).replace(',', ', '))"
   ]
  },
  {
   "cell_type": "code",
   "execution_count": 347,
   "metadata": {},
   "outputs": [],
   "source": [
    "def create_hierarchy(txt):\n",
    "    txt = str(txt).split(', ')\n",
    "    newtxt = ''\n",
    "\n",
    "    for i in range(len(txt)): \n",
    "        newtxt = newtxt + txt[i] + '\\n' \n",
    "\n",
    "    outtxt = ''\n",
    "    newtxt = newtxt.split('\\n')[:-1]\n",
    "    for i in range(len(newtxt)):\n",
    "        outtxt = outtxt + f'<ul><li>{newtxt[i]}</li>'\n",
    "    num_indents = len(newtxt)\n",
    "    outtxt = outtxt + '</ul>'*len(newtxt)\n",
    "    \n",
    "    return outtxt\n",
    "\n",
    "merged['family'] = merged['family'].apply(create_hierarchy)\n",
    "merged.to_csv('../docs/merged_v3.csv')"
   ]
  },
  {
   "cell_type": "code",
   "execution_count": 343,
   "metadata": {},
   "outputs": [
    {
     "data": {
      "text/plain": [
       "((1849,), (3026, 10))"
      ]
     },
     "execution_count": 343,
     "metadata": {},
     "output_type": "execute_result"
    }
   ],
   "source": [
    "data['glottocode'].unique().shape, data.shape"
   ]
  },
  {
   "cell_type": "code",
   "execution_count": 18,
   "metadata": {},
   "outputs": [
    {
     "data": {
      "text/plain": [
       "((1320, 11), (3157, 10), (1403, 20))"
      ]
     },
     "execution_count": 18,
     "metadata": {},
     "output_type": "execute_result"
    }
   ],
   "source": [
    "data2.shape, data.shape,  merged.shape"
   ]
  },
  {
   "cell_type": "code",
   "execution_count": null,
   "metadata": {},
   "outputs": [],
   "source": []
  }
 ],
 "metadata": {
  "kernelspec": {
   "display_name": "base",
   "language": "python",
   "name": "python3"
  },
  "language_info": {
   "codemirror_mode": {
    "name": "ipython",
    "version": 3
   },
   "file_extension": ".py",
   "mimetype": "text/x-python",
   "name": "python",
   "nbconvert_exporter": "python",
   "pygments_lexer": "ipython3",
   "version": "3.12.3"
  }
 },
 "nbformat": 4,
 "nbformat_minor": 2
}
