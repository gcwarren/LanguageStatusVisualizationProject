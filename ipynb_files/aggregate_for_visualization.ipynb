{
 "cells": [
  {
   "cell_type": "markdown",
   "metadata": {},
   "source": [
    "# Data Cleaning and Reformatting\n",
    "\n",
    "In this file, the merged file containing all of the data collected in this project - which can be found at ../csv_files/mass_merge.csv - will be cleaned. The objective of doing so is to make the data easier to read, and to format certain columns with html code so it can be read directly into the website in the ../docs/index.js file. "
   ]
  },
  {
   "cell_type": "code",
   "execution_count": 266,
   "metadata": {},
   "outputs": [],
   "source": [
    "import pandas as pd \n",
    "import regex as re"
   ]
  },
  {
   "cell_type": "code",
   "execution_count": 267,
   "metadata": {},
   "outputs": [],
   "source": [
    "mass_data = pd.read_csv('../csv_files/mass_merge.csv', index_col=0)\n",
    "mass_data = mass_data.dropna(subset = ['iso6393'])\n",
    "# mass_data "
   ]
  },
  {
   "cell_type": "code",
   "execution_count": 268,
   "metadata": {},
   "outputs": [],
   "source": [
    "def formatting(row):\n",
    "    if str(row) != 'nan':\n",
    "\n",
    "        # replace any instance within a string of a set of brackets which contain 1 or more digits with an empty string\n",
    "        row = re.sub(r'\\[[0-9]+\\]', '', row)\n",
    "        # replace any instance within a string of a set of brackets which contain 1 or more letters with an empty string\n",
    "        row = re.sub(r'\\[[a-zA-Z]+\\]', '', row)\n",
    "        # replace any instance within a string of a set of characters beginning with either a \\ or ? and ending with a newline command with an empty string, including the \\ or ? and newline command\n",
    "        row = re.sub(r'\\\\n|\\?\\\\n', '', row)\n",
    "        # replace any instance within a string of a set of characters ', '', ' with a , \n",
    "        row = re.sub(r'\\', \\'\\', \\'', ', ', row)\n",
    "        # replace any instance within a string of a set of characters ', ' with a , \n",
    "        row = re.sub(r'\\'+, \\'', ', ', row)\n",
    "        # replace any instance within a string of a [' with an empty string\n",
    "        row = re.sub(r'\\[\\'', '', row)\n",
    "        # replace any instance within a string of a '] with an empty string\n",
    "        row = re.sub(r'\\'\\]', '', row)\n",
    "\n",
    "        return row\n",
    "    \n",
    "mass_data['family'] = mass_data['family'].apply(formatting)\n",
    "mass_data['dialects'] = mass_data['dialects'].apply(formatting)\n",
    "# mass_data"
   ]
  },
  {
   "cell_type": "code",
   "execution_count": 269,
   "metadata": {},
   "outputs": [],
   "source": [
    "def formatting(row):\n",
    "    if str(row) != 'NaN':\n",
    "\n",
    "        # replace any instance of spaces with a comma followed by a space\n",
    "        row = re.sub(r'\\s', ', ', str(row))\n",
    "\n",
    "        return row\n",
    "\n",
    "mass_data['country_ids'] = mass_data['country_ids'].apply(formatting)\n",
    "# mass_data['country_ids']"
   ]
  },
  {
   "cell_type": "code",
   "execution_count": 270,
   "metadata": {},
   "outputs": [],
   "source": [
    "def create_hierarchy(txt):\n",
    "    txt = str(txt).split(', ')\n",
    "    newtxt = ''\n",
    "\n",
    "    for i in range(len(txt)): \n",
    "        newtxt = newtxt + txt[i] + '\\n' \n",
    "\n",
    "    outtxt = ''\n",
    "    newtxt = newtxt.split('\\n')[:-1]\n",
    "    for i in range(len(newtxt)):\n",
    "        outtxt = outtxt + f'<ul><li>{newtxt[i]}</li>'\n",
    "    num_indents = len(newtxt)\n",
    "    outtxt = outtxt + '</ul>'*len(newtxt)\n",
    "    \n",
    "    return outtxt\n",
    "\n",
    "mass_data['family'] = mass_data['family'].apply(create_hierarchy)\n",
    "# mass_data"
   ]
  },
  {
   "cell_type": "code",
   "execution_count": 271,
   "metadata": {},
   "outputs": [],
   "source": [
    "mass_data.to_csv('../csv_files/master_merge.csv')\n",
    "mass_data.to_csv('../docs/master_merge.csv')"
   ]
  }
 ],
 "metadata": {
  "kernelspec": {
   "display_name": "base",
   "language": "python",
   "name": "python3"
  },
  "language_info": {
   "codemirror_mode": {
    "name": "ipython",
    "version": 3
   },
   "file_extension": ".py",
   "mimetype": "text/x-python",
   "name": "python",
   "nbconvert_exporter": "python",
   "pygments_lexer": "ipython3",
   "version": "3.12.3"
  }
 },
 "nbformat": 4,
 "nbformat_minor": 2
}
