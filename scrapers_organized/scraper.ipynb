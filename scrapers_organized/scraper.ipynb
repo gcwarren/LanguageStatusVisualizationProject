{
 "cells": [
  {
   "cell_type": "markdown",
   "metadata": {},
   "source": [
    "# Original Scraper File\n",
    "&nbsp; Before realizing that Glottolog provides a link to the relevant Wikipedia page for a given language, I began writing my web scraper to obtain information from the language pages listed in Wikipedia's https://en.wikipedia.org/wiki/List_of_language_names page. This page provides a list of commonly known languages and their links, but does not provide pages for a complete list of languages. "
   ]
  },
  {
   "cell_type": "code",
   "execution_count": 3,
   "metadata": {},
   "outputs": [],
   "source": [
    "import pandas as pd \n",
    "import requests\n",
    "import unicodedata\n",
    "from tqdm import tqdm\n",
    "from bs4 import BeautifulSoup"
   ]
  },
  {
   "cell_type": "code",
   "execution_count": 5,
   "metadata": {},
   "outputs": [],
   "source": [
    "# Links to the pages for each language, scraped from Wikipedia:\n",
    "    # def get_links(): \n",
    "    #     response = requests.get('https://en.wikipedia.org/wiki/List_of_language_names')\n",
    "    #     soup = BeautifulSoup(response.content, 'html.parser')\n",
    "    #     links = soup.find_all('a')\n",
    "    #     # links = [link.get('href') for link in links if (link.get('title') is not None) and ('language' in link.get('title'))]\n",
    "    #     links = [link.get('href') for link in links if (link.get('title') is not None)]\n",
    "    #     # links = [link for link in links if link.endswith('_language')]\n",
    "    #     links = [\"https://en.wikipedia.org\"+link for link in links]\n",
    "    #     return links\n",
    "\n",
    "#Updated Solution: Links to the pages for each language, scraped from Glottolog: \n",
    "glottolog_info = pd.read_csv('../ipynb_files/glottolog_data.csv')"
   ]
  },
  {
   "cell_type": "code",
   "execution_count": 8,
   "metadata": {},
   "outputs": [],
   "source": [
    "# countries_and_territories = requests.get('https://en.wikipedia.org/wiki/List_of_countries_and_dependencies_and_their_capitals_in_native_languages')\n",
    "# soup = BeautifulSoup(countries_and_territories.content, 'html.parser')\n",
    "\n",
    "# table = soup.find('table', {'class': ['wikitable', 'sortable', 'jquery-tablesorter']})\n",
    "# regions = []\n",
    "# languages = []\n",
    "\n",
    "# table_rows = table.find_all('tr')\n",
    "# print(len(table_rows))\n"
   ]
  },
  {
   "cell_type": "code",
   "execution_count": 7,
   "metadata": {},
   "outputs": [],
   "source": [
    "# unesco_languages = pd.read_csv('../Extinct languages - DATA SUMMARY.csv')\n",
    "# unesco_languages"
   ]
  },
  {
   "cell_type": "code",
   "execution_count": 15,
   "metadata": {},
   "outputs": [
    {
     "data": {
      "text/html": [
       "<div>\n",
       "<style scoped>\n",
       "    .dataframe tbody tr th:only-of-type {\n",
       "        vertical-align: middle;\n",
       "    }\n",
       "\n",
       "    .dataframe tbody tr th {\n",
       "        vertical-align: top;\n",
       "    }\n",
       "\n",
       "    .dataframe thead th {\n",
       "        text-align: right;\n",
       "    }\n",
       "</style>\n",
       "<table border=\"1\" class=\"dataframe\">\n",
       "  <thead>\n",
       "    <tr style=\"text-align: right;\">\n",
       "      <th></th>\n",
       "      <th>iso6393</th>\n",
       "      <th>glottocode</th>\n",
       "      <th>aes_status</th>\n",
       "      <th>Wikipedia_Url</th>\n",
       "    </tr>\n",
       "  </thead>\n",
       "  <tbody>\n",
       "    <tr>\n",
       "      <th>0</th>\n",
       "      <td>aaa</td>\n",
       "      <td>ghot1243</td>\n",
       "      <td>not endangered</td>\n",
       "      <td>https://en.wikipedia.org/wiki/Ghotuo_language</td>\n",
       "    </tr>\n",
       "    <tr>\n",
       "      <th>1</th>\n",
       "      <td>aab</td>\n",
       "      <td>alum1246</td>\n",
       "      <td>not endangered</td>\n",
       "      <td>https://en.wikipedia.org/wiki/Alumu_language</td>\n",
       "    </tr>\n",
       "    <tr>\n",
       "      <th>2</th>\n",
       "      <td>aac</td>\n",
       "      <td>arii1243</td>\n",
       "      <td>moribund</td>\n",
       "      <td>https://en.wikipedia.org/wiki/Ari_language_(Ne...</td>\n",
       "    </tr>\n",
       "    <tr>\n",
       "      <th>3</th>\n",
       "      <td>aad</td>\n",
       "      <td>amal1242</td>\n",
       "      <td>shifting</td>\n",
       "      <td>https://en.wikipedia.org/wiki/Amal_language</td>\n",
       "    </tr>\n",
       "    <tr>\n",
       "      <th>4</th>\n",
       "      <td>aae</td>\n",
       "      <td>arbe1236</td>\n",
       "      <td>threatened</td>\n",
       "      <td>https://en.wikipedia.org/wiki/Arb%C3%ABresh_la...</td>\n",
       "    </tr>\n",
       "    <tr>\n",
       "      <th>...</th>\n",
       "      <td>...</td>\n",
       "      <td>...</td>\n",
       "      <td>...</td>\n",
       "      <td>...</td>\n",
       "    </tr>\n",
       "    <tr>\n",
       "      <th>7585</th>\n",
       "      <td>zyg</td>\n",
       "      <td>yang1286</td>\n",
       "      <td>not endangered</td>\n",
       "      <td>https://en.wikipedia.org/wiki/Yang_Zhuang_lang...</td>\n",
       "    </tr>\n",
       "    <tr>\n",
       "      <th>7586</th>\n",
       "      <td>zyj</td>\n",
       "      <td>youj1238</td>\n",
       "      <td>not endangered</td>\n",
       "      <td>https://en.wikipedia.org/wiki/Youjiang_Zhuang</td>\n",
       "    </tr>\n",
       "    <tr>\n",
       "      <th>7587</th>\n",
       "      <td>zyn</td>\n",
       "      <td>yong1275</td>\n",
       "      <td>not endangered</td>\n",
       "      <td>https://en.wikipedia.org/wiki/Yongnan_languages</td>\n",
       "    </tr>\n",
       "    <tr>\n",
       "      <th>7588</th>\n",
       "      <td>zyp</td>\n",
       "      <td>zyph1238</td>\n",
       "      <td>not endangered</td>\n",
       "      <td>https://en.wikipedia.org/wiki/Zyphe_language</td>\n",
       "    </tr>\n",
       "    <tr>\n",
       "      <th>7589</th>\n",
       "      <td>zzj</td>\n",
       "      <td>zuoj1238</td>\n",
       "      <td>not endangered</td>\n",
       "      <td>https://en.wikipedia.org/wiki/Zuojiang_Zhuang_...</td>\n",
       "    </tr>\n",
       "  </tbody>\n",
       "</table>\n",
       "<p>7590 rows × 4 columns</p>\n",
       "</div>"
      ],
      "text/plain": [
       "     iso6393 glottocode      aes_status  \\\n",
       "0        aaa   ghot1243  not endangered   \n",
       "1        aab   alum1246  not endangered   \n",
       "2        aac   arii1243        moribund   \n",
       "3        aad   amal1242        shifting   \n",
       "4        aae   arbe1236      threatened   \n",
       "...      ...        ...             ...   \n",
       "7585     zyg   yang1286  not endangered   \n",
       "7586     zyj   youj1238  not endangered   \n",
       "7587     zyn   yong1275  not endangered   \n",
       "7588     zyp   zyph1238  not endangered   \n",
       "7589     zzj   zuoj1238  not endangered   \n",
       "\n",
       "                                          Wikipedia_Url  \n",
       "0         https://en.wikipedia.org/wiki/Ghotuo_language  \n",
       "1          https://en.wikipedia.org/wiki/Alumu_language  \n",
       "2     https://en.wikipedia.org/wiki/Ari_language_(Ne...  \n",
       "3           https://en.wikipedia.org/wiki/Amal_language  \n",
       "4     https://en.wikipedia.org/wiki/Arb%C3%ABresh_la...  \n",
       "...                                                 ...  \n",
       "7585  https://en.wikipedia.org/wiki/Yang_Zhuang_lang...  \n",
       "7586      https://en.wikipedia.org/wiki/Youjiang_Zhuang  \n",
       "7587    https://en.wikipedia.org/wiki/Yongnan_languages  \n",
       "7588       https://en.wikipedia.org/wiki/Zyphe_language  \n",
       "7589  https://en.wikipedia.org/wiki/Zuojiang_Zhuang_...  \n",
       "\n",
       "[7590 rows x 4 columns]"
      ]
     },
     "execution_count": 15,
     "metadata": {},
     "output_type": "execute_result"
    }
   ],
   "source": [
    "glottolog_info"
   ]
  },
  {
   "cell_type": "code",
   "execution_count": 18,
   "metadata": {},
   "outputs": [],
   "source": [
    "# The following function finds the index of the headers in the infobox of the Wikipedia page for a given language, allowing \n",
    "# us to extract the information we need from the page using the headers as keys.\n",
    "\n",
    "def find_index_of_headers(url):\n",
    "    response        = requests.get(url)\n",
    "    content         = response.content\n",
    "    parser          = BeautifulSoup(content, 'html.parser')\n",
    "    table           = parser.find('table', {'class': 'infobox'})\n",
    "    included_headers = {}\n",
    "    \n",
    "    for i in range(0, len(table.find_all('th', {'class': 'infobox-label'}))):\n",
    "        included_headers[unicodedata.normalize('NFKD', table.find_all('th', {'class': 'infobox-label'}).__getitem__(i).getText())] = i\n",
    "    return included_headers\n",
    "\n",
    "\n",
    "urls = glottolog_info['Wikipedia_Url'].astype(str)"
   ]
  },
  {
   "cell_type": "code",
   "execution_count": 19,
   "metadata": {},
   "outputs": [
    {
     "name": "stderr",
     "output_type": "stream",
     "text": [
      "  2%|▏         | 187/7590 [01:32<44:39,  2.76it/s]  "
     ]
    },
    {
     "name": "stdout",
     "output_type": "stream",
     "text": [
      "No table found  https://en.wikipedia.org/wiki/South_Levantine_Arabic\n"
     ]
    },
    {
     "name": "stderr",
     "output_type": "stream",
     "text": [
      "  4%|▍         | 311/7590 [02:40<1:13:37,  1.65it/s]"
     ]
    },
    {
     "name": "stdout",
     "output_type": "stream",
     "text": [
      "No table found  https://en.wikipedia.org/wiki/North_Levantine_Arabic\n"
     ]
    },
    {
     "name": "stderr",
     "output_type": "stream",
     "text": [
      "  6%|▋         | 490/7590 [04:33<57:54,  2.04it/s]  "
     ]
    },
    {
     "name": "stdout",
     "output_type": "stream",
     "text": [
      "No table found  https://en.wikipedia.org/wiki/Sorsogon_Ayta_language\n"
     ]
    },
    {
     "name": "stderr",
     "output_type": "stream",
     "text": [
      "  9%|▉         | 677/7590 [06:17<50:58,  2.26it/s]  "
     ]
    },
    {
     "name": "stdout",
     "output_type": "stream",
     "text": [
      "No table found  https://en.wikipedia.org/wiki/Bhadarwahi\n"
     ]
    },
    {
     "name": "stderr",
     "output_type": "stream",
     "text": [
      " 24%|██▍       | 1852/7590 [17:33<1:06:23,  1.44it/s]"
     ]
    },
    {
     "name": "stdout",
     "output_type": "stream",
     "text": [
      "No table found  https://en.wikipedia.org/wiki/Northwestern_Fars_language\n"
     ]
    },
    {
     "name": "stderr",
     "output_type": "stream",
     "text": [
      " 28%|██▊       | 2128/7590 [20:07<47:21,  1.92it/s]  "
     ]
    },
    {
     "name": "stdout",
     "output_type": "stream",
     "text": [
      "No table found  https://en.wikipedia.org/wiki/Gowlan_language\n"
     ]
    },
    {
     "name": "stderr",
     "output_type": "stream",
     "text": [
      " 31%|███       | 2324/7590 [21:59<40:46,  2.15it/s]  "
     ]
    },
    {
     "name": "stdout",
     "output_type": "stream",
     "text": [
      "No table found  https://en.wikipedia.org/wiki/Duan_language\n"
     ]
    },
    {
     "name": "stderr",
     "output_type": "stream",
     "text": [
      " 42%|████▏     | 3156/7590 [30:12<40:59,  1.80it/s]  "
     ]
    },
    {
     "name": "stdout",
     "output_type": "stream",
     "text": [
      "No table found  https://en.wikipedia.org/wiki/Koro%E2%80%93Olrat_language\n"
     ]
    },
    {
     "name": "stderr",
     "output_type": "stream",
     "text": [
      " 43%|████▎     | 3240/7590 [30:59<43:02,  1.68it/s]  "
     ]
    },
    {
     "name": "stdout",
     "output_type": "stream",
     "text": [
      "No table found  https://en.wikipedia.org/wiki/Karipuna_language_(Rond%C3%B4nia)\n"
     ]
    },
    {
     "name": "stderr",
     "output_type": "stream",
     "text": [
      " 44%|████▍     | 3333/7590 [31:55<43:26,  1.63it/s]"
     ]
    },
    {
     "name": "stdout",
     "output_type": "stream",
     "text": [
      "No table found  https://en.wikipedia.org/wiki/Kpatili_language\n"
     ]
    },
    {
     "name": "stderr",
     "output_type": "stream",
     "text": [
      " 75%|███████▌  | 5722/7590 [56:16<24:55,  1.25it/s]  "
     ]
    },
    {
     "name": "stdout",
     "output_type": "stream",
     "text": [
      "No table found  https://en.wikipedia.org/wiki/Salchuq_language\n"
     ]
    },
    {
     "name": "stderr",
     "output_type": "stream",
     "text": [
      " 76%|███████▌  | 5744/7590 [56:31<14:47,  2.08it/s]"
     ]
    },
    {
     "name": "stdout",
     "output_type": "stream",
     "text": [
      "No table found  https://en.wikipedia.org/wiki/Inari_Sami\n"
     ]
    },
    {
     "name": "stderr",
     "output_type": "stream",
     "text": [
      " 90%|█████████ | 6835/7590 [1:07:27<07:32,  1.67it/s]"
     ]
    },
    {
     "name": "stdout",
     "output_type": "stream",
     "text": [
      "No table found  https://en.wikipedia.org/wiki/Mawa_language_(Nigeria)\n"
     ]
    },
    {
     "name": "stderr",
     "output_type": "stream",
     "text": [
      " 96%|█████████▌| 7277/7590 [1:11:32<02:14,  2.32it/s]"
     ]
    },
    {
     "name": "stdout",
     "output_type": "stream",
     "text": [
      "No table found  https://en.wikipedia.org/wiki/Yindjilandji\n"
     ]
    },
    {
     "name": "stderr",
     "output_type": "stream",
     "text": [
      " 99%|█████████▉| 7501/7590 [1:13:29<00:31,  2.79it/s]"
     ]
    },
    {
     "name": "stdout",
     "output_type": "stream",
     "text": [
      "No table found  https://en.wikipedia.org/wiki/Marri_Tjevin\n"
     ]
    },
    {
     "name": "stderr",
     "output_type": "stream",
     "text": [
      "100%|██████████| 7590/7590 [1:14:22<00:00,  1.70it/s]\n"
     ]
    },
    {
     "ename": "AttributeError",
     "evalue": "'list' object has no attribute 'to_csv'",
     "output_type": "error",
     "traceback": [
      "\u001b[0;31m---------------------------------------------------------------------------\u001b[0m",
      "\u001b[0;31mAttributeError\u001b[0m                            Traceback (most recent call last)",
      "Cell \u001b[0;32mIn[19], line 81\u001b[0m\n\u001b[1;32m     76\u001b[0m     \u001b[38;5;66;03m# except Exception as e: \u001b[39;00m\n\u001b[1;32m     77\u001b[0m     \u001b[38;5;66;03m#     errors.append((e, url))\u001b[39;00m\n\u001b[1;32m     78\u001b[0m     \u001b[38;5;66;03m#     continue\u001b[39;00m\n\u001b[1;32m     80\u001b[0m df \u001b[38;5;241m=\u001b[39m pd\u001b[38;5;241m.\u001b[39mDataFrame(data, columns\u001b[38;5;241m=\u001b[39m[\u001b[38;5;124m'\u001b[39m\u001b[38;5;124mfamily\u001b[39m\u001b[38;5;124m'\u001b[39m, \u001b[38;5;124m'\u001b[39m\u001b[38;5;124mdialects\u001b[39m\u001b[38;5;124m'\u001b[39m, \u001b[38;5;124m'\u001b[39m\u001b[38;5;124miso3code\u001b[39m\u001b[38;5;124m'\u001b[39m, \u001b[38;5;124m'\u001b[39m\u001b[38;5;124mgoglottocodettolog\u001b[39m\u001b[38;5;124m'\u001b[39m, \u001b[38;5;124m'\u001b[39m\u001b[38;5;124mspeakers\u001b[39m\u001b[38;5;124m'\u001b[39m, \u001b[38;5;124m'\u001b[39m\u001b[38;5;124mregions\u001b[39m\u001b[38;5;124m'\u001b[39m, \u001b[38;5;124m'\u001b[39m\u001b[38;5;124moff_lang\u001b[39m\u001b[38;5;124m'\u001b[39m, \u001b[38;5;124m'\u001b[39m\u001b[38;5;124mrec_min_lang\u001b[39m\u001b[38;5;124m'\u001b[39m, \u001b[38;5;124m'\u001b[39m\u001b[38;5;124murl\u001b[39m\u001b[38;5;124m'\u001b[39m])\n\u001b[0;32m---> 81\u001b[0m \u001b[43mdata\u001b[49m\u001b[38;5;241;43m.\u001b[39;49m\u001b[43mto_csv\u001b[49m(\u001b[38;5;124m'\u001b[39m\u001b[38;5;124mwiki_data.csv\u001b[39m\u001b[38;5;124m'\u001b[39m, index\u001b[38;5;241m=\u001b[39m\u001b[38;5;28;01mFalse\u001b[39;00m)\n",
      "\u001b[0;31mAttributeError\u001b[0m: 'list' object has no attribute 'to_csv'"
     ]
    }
   ],
   "source": [
    "# The following code block scrapes the Wikipedia pages for each language in the list of links, extracting the information\n",
    "\n",
    "import requests\n",
    "from requests.adapters import HTTPAdapter\n",
    "from urllib3.util.retry import Retry\n",
    "\n",
    "data = []\n",
    "errors = []\n",
    "\n",
    "for url in tqdm(urls): \n",
    "    # try: \n",
    "        # lang = url.split('/')[-1]\n",
    "\n",
    "        # print(requests.get(url).status_code)\n",
    "        # print(url)\n",
    "\n",
    "        session = requests.Session()\n",
    "        retry = Retry(connect=3, backoff_factor=0.5)\n",
    "        adapter = HTTPAdapter(max_retries=retry)\n",
    "        session.mount('http://', adapter)\n",
    "        session.mount('https://', adapter)\n",
    "\n",
    "        if url == 'nan':\n",
    "             continue\n",
    "        if str(url).startswith('/wiki/'):\n",
    "             url = 'https://en.wikipedia.org' + str(url)\n",
    "        if requests.get(str(url)).status_code != 200:\n",
    "             continue\n",
    "        response = session.get(str(url))\n",
    "\n",
    "        content         = response.content\n",
    "        parser          = BeautifulSoup(content, 'html.parser')\n",
    "        table           = parser.find('table', {'class': 'infobox'})\n",
    "\n",
    "        if table == None:\n",
    "             print(\"No table found \", url)\n",
    "             continue\n",
    "\n",
    "        header_indices  = find_index_of_headers(url)\n",
    "\n",
    "        # print(header_indices)\n",
    "\n",
    "        infobox_data = table.find_all('td', {'class': 'infobox-data'})\n",
    "\n",
    "        # lang            = table.find('th', {'class': 'infobox-above above'}).get_text('title') if table.find('th', {'class': 'infobox-above above'}) else lang\n",
    "\n",
    "        off_lang        = infobox_data[header_indices['Official language in']].text if 'Official language in' in header_indices else None\n",
    "        rec_min_lang    = infobox_data[header_indices['Recognised minoritylanguage in']].text if 'Recognised minoritylanguage in' in header_indices else None\n",
    "        # speakers        = infobox_data[header_indices['Speakers']].text             if 'Speakers' in header_indices else None\n",
    "        iso3code        = infobox_data[header_indices['ISO 639-3']].get_text('title')            if 'ISO 639-3' in header_indices else None\n",
    "        glottocode      = infobox_data[header_indices['Glottolog']].get_text('title')            if 'Glottolog' in header_indices else None\n",
    "\n",
    "        if 'Speakers' in header_indices.keys():\n",
    "            speakers = infobox_data[header_indices['Speakers']].text\n",
    "        elif 'Native speakers' in header_indices.keys():\n",
    "            speakers = infobox_data[header_indices['Native speakers']].text\n",
    "        else:\n",
    "            speakers = None\n",
    "\n",
    "        if 'Region' in header_indices.keys():\n",
    "            regions = infobox_data[header_indices['Region']].text\n",
    "        elif 'Native Region' in header_indices.keys():\n",
    "            regions = infobox_data[header_indices['Native Region']].text\n",
    "        else:\n",
    "            regions = None\n",
    "\n",
    "        family          = [x for x in infobox_data[header_indices['Language family']].get_text('title').split('title') if x != \"\\n\"]\\\n",
    "                            if 'Language family' in header_indices else None\n",
    "        \n",
    "        dialects        = [x for x in infobox_data[header_indices['Dialects']].get_text('title').split('title') if x != \"\\n\"] \\\n",
    "                            if 'Dialects' in header_indices else None\n",
    "\n",
    "        url             = str(url)\n",
    "        \n",
    "        data.append((family, dialects, iso3code, glottocode, speakers, regions, off_lang, rec_min_lang, url))\n",
    "    # except Exception as e: \n",
    "    #     errors.append((e, url))\n",
    "    #     continue\n",
    "\n",
    "df = pd.DataFrame(data, columns=['family', 'dialects', 'iso3code', 'goglottocodettolog', 'speakers', 'regions', 'off_lang', 'rec_min_lang', 'url'])"
   ]
  },
  {
   "cell_type": "code",
   "execution_count": 20,
   "metadata": {},
   "outputs": [],
   "source": [
    "df.to_csv('wiki_languages_most_recent.csv')"
   ]
  },
  {
   "cell_type": "markdown",
   "metadata": {},
   "source": [
    "## CSV Generated, Edge Cases Observed: "
   ]
  },
  {
   "cell_type": "code",
   "execution_count": null,
   "metadata": {},
   "outputs": [],
   "source": [
    "# edge case observed in punjabi_language page: \n",
    "    # https://en.wikipedia.org/wiki/Punjabi_language\n",
    "    # for the family column:\n",
    "        # 'Indo-European, Indo-Iranian, Indo-Aryan, Northwestern zone, Punjabi'\n",
    "        # these values are originally in a list. after running the following code:  \n",
    "            cols = languages[languages['lang'].apply(lambda x: 'punjabi' in x.lower())].columns[1:]\n",
    "            for col in cols: \n",
    "                languages[col] = languages[col].apply(lambda x: [] if pd.isnull(x) else [x])\n",
    "            languages[languages['lang'].apply(lambda x: 'punjabi' in x.lower())]\n",
    "        # they are turned into an object, but appear as a nested list:\n",
    "            # [['Indo-European', 'Indo-Iranian', 'Indo-Aryan...\n",
    "        # when adding a line to the code: \n",
    "            cols = languages.columns[1:]\n",
    "            for col in cols: \n",
    "                languages[col] = languages[col].apply(lambda x: [] if pd.isnull(x) else [x])\n",
    "                languages[col] = languages[col].apply(lambda values: [x[:x.find('[')] if '[' in x else x for x in values])\n",
    "            languages[languages['lang'].apply(lambda x: 'punjabi' in x.lower())]\n",
    "        # they are still turned into an object, but appear as an empty list:\n",
    "            # []\n",
    "    # for the dialects column:\n",
    "        # Object: [['See', ' ', 'Punjabi dialects']]\n",
    "        # The above output does not change after running the first code block: \n",
    "            cols = languages[languages['lang'].apply(lambda x: 'punjabi' in x.lower())].columns[1:]\n",
    "            for col in cols: \n",
    "                languages[col] = languages[col].apply(lambda x: [] if pd.isnull(x) else [x])\n",
    "            languages[languages['lang'].apply(lambda x: 'punjabi' in x.lower())]\n",
    "        # After runningt the second code block, the output changes to:\n",
    "            # Object: []"
   ]
  },
  {
   "cell_type": "markdown",
   "metadata": {},
   "source": [
    "## Modifications to Previously Generated CSV for Data Cleaning:"
   ]
  },
  {
   "cell_type": "code",
   "execution_count": 61,
   "metadata": {},
   "outputs": [],
   "source": [
    "df = pd.read_csv('wiki_languages.csv')\n",
    "languages = df"
   ]
  },
  {
   "cell_type": "code",
   "execution_count": 58,
   "metadata": {},
   "outputs": [
    {
     "data": {
      "text/plain": [
       "array([False, False, False, False, False, False, False, False])"
      ]
     },
     "execution_count": 58,
     "metadata": {},
     "output_type": "execute_result"
    }
   ],
   "source": [
    "pd.isnull(languages[languages['lang'].apply(lambda x: 'punjabi' in x.lower())].columns)"
   ]
  },
  {
   "cell_type": "code",
   "execution_count": 63,
   "metadata": {},
   "outputs": [
    {
     "data": {
      "text/html": [
       "<div>\n",
       "<style scoped>\n",
       "    .dataframe tbody tr th:only-of-type {\n",
       "        vertical-align: middle;\n",
       "    }\n",
       "\n",
       "    .dataframe tbody tr th {\n",
       "        vertical-align: top;\n",
       "    }\n",
       "\n",
       "    .dataframe thead th {\n",
       "        text-align: right;\n",
       "    }\n",
       "</style>\n",
       "<table border=\"1\" class=\"dataframe\">\n",
       "  <thead>\n",
       "    <tr style=\"text-align: right;\">\n",
       "      <th></th>\n",
       "      <th>lang</th>\n",
       "      <th>family</th>\n",
       "      <th>dialects</th>\n",
       "      <th>iso3code</th>\n",
       "      <th>speakers</th>\n",
       "      <th>regions</th>\n",
       "      <th>off_lang</th>\n",
       "      <th>rec_min_lang</th>\n",
       "    </tr>\n",
       "  </thead>\n",
       "  <tbody>\n",
       "    <tr>\n",
       "      <th>196</th>\n",
       "      <td>Punjabi_language</td>\n",
       "      <td>['Indo-European', 'Indo-Iranian', 'Indo-Aryan'...</td>\n",
       "      <td>['See', ' ', 'Punjabi dialects']</td>\n",
       "      <td>Either:pan – Panjabipnb – Western Panjabi</td>\n",
       "      <td>NaN</td>\n",
       "      <td>Punjab</td>\n",
       "      <td>Pakistan\\n Punjab (provincial)[c][11]\\n India...</td>\n",
       "      <td>NaN</td>\n",
       "    </tr>\n",
       "  </tbody>\n",
       "</table>\n",
       "</div>"
      ],
      "text/plain": [
       "                 lang                                             family  \\\n",
       "196  Punjabi_language  ['Indo-European', 'Indo-Iranian', 'Indo-Aryan'...   \n",
       "\n",
       "                             dialects  \\\n",
       "196  ['See', ' ', 'Punjabi dialects']   \n",
       "\n",
       "                                      iso3code speakers regions  \\\n",
       "196  Either:pan – Panjabipnb – Western Panjabi      NaN  Punjab   \n",
       "\n",
       "                                              off_lang rec_min_lang  \n",
       "196   Pakistan\\n Punjab (provincial)[c][11]\\n India...          NaN  "
      ]
     },
     "execution_count": 63,
     "metadata": {},
     "output_type": "execute_result"
    }
   ],
   "source": [
    "languages[languages['lang'].apply(lambda x: 'punjabi' in x.lower())]"
   ]
  },
  {
   "cell_type": "code",
   "execution_count": 60,
   "metadata": {},
   "outputs": [
    {
     "data": {
      "text/html": [
       "<div>\n",
       "<style scoped>\n",
       "    .dataframe tbody tr th:only-of-type {\n",
       "        vertical-align: middle;\n",
       "    }\n",
       "\n",
       "    .dataframe tbody tr th {\n",
       "        vertical-align: top;\n",
       "    }\n",
       "\n",
       "    .dataframe thead th {\n",
       "        text-align: right;\n",
       "    }\n",
       "</style>\n",
       "<table border=\"1\" class=\"dataframe\">\n",
       "  <thead>\n",
       "    <tr style=\"text-align: right;\">\n",
       "      <th></th>\n",
       "      <th>lang</th>\n",
       "      <th>family</th>\n",
       "      <th>dialects</th>\n",
       "      <th>iso3code</th>\n",
       "      <th>speakers</th>\n",
       "      <th>regions</th>\n",
       "      <th>off_lang</th>\n",
       "      <th>rec_min_lang</th>\n",
       "    </tr>\n",
       "  </thead>\n",
       "  <tbody>\n",
       "    <tr>\n",
       "      <th>196</th>\n",
       "      <td>Punjabi_language</td>\n",
       "      <td>[['Indo-European', 'Indo-Iranian', 'Indo-Aryan...</td>\n",
       "      <td>[['See', ' ', 'Punjabi dialects']]</td>\n",
       "      <td>[Either:pan – Panjabipnb – Western Panjabi]</td>\n",
       "      <td>[]</td>\n",
       "      <td>[Punjab]</td>\n",
       "      <td>[ Pakistan\\n Punjab (provincial)[c][11]\\n Indi...</td>\n",
       "      <td>[]</td>\n",
       "    </tr>\n",
       "  </tbody>\n",
       "</table>\n",
       "</div>"
      ],
      "text/plain": [
       "                 lang                                             family  \\\n",
       "196  Punjabi_language  [['Indo-European', 'Indo-Iranian', 'Indo-Aryan...   \n",
       "\n",
       "                               dialects  \\\n",
       "196  [['See', ' ', 'Punjabi dialects']]   \n",
       "\n",
       "                                        iso3code speakers   regions  \\\n",
       "196  [Either:pan – Panjabipnb – Western Panjabi]       []  [Punjab]   \n",
       "\n",
       "                                              off_lang rec_min_lang  \n",
       "196  [ Pakistan\\n Punjab (provincial)[c][11]\\n Indi...           []  "
      ]
     },
     "execution_count": 60,
     "metadata": {},
     "output_type": "execute_result"
    }
   ],
   "source": [
    "cols = languages[languages['lang'].apply(lambda x: 'punjabi' in x.lower())].columns[1:]\n",
    "for col in cols: \n",
    "    languages[col] = languages[col].apply(lambda x: [] if pd.isnull(x) else [x])\n",
    "languages[languages['lang'].apply(lambda x: 'punjabi' in x.lower())]"
   ]
  },
  {
   "cell_type": "code",
   "execution_count": 67,
   "metadata": {},
   "outputs": [
    {
     "data": {
      "text/html": [
       "<div>\n",
       "<style scoped>\n",
       "    .dataframe tbody tr th:only-of-type {\n",
       "        vertical-align: middle;\n",
       "    }\n",
       "\n",
       "    .dataframe tbody tr th {\n",
       "        vertical-align: top;\n",
       "    }\n",
       "\n",
       "    .dataframe thead th {\n",
       "        text-align: right;\n",
       "    }\n",
       "</style>\n",
       "<table border=\"1\" class=\"dataframe\">\n",
       "  <thead>\n",
       "    <tr style=\"text-align: right;\">\n",
       "      <th></th>\n",
       "      <th>lang</th>\n",
       "      <th>family</th>\n",
       "      <th>dialects</th>\n",
       "      <th>iso3code</th>\n",
       "      <th>speakers</th>\n",
       "      <th>regions</th>\n",
       "      <th>off_lang</th>\n",
       "      <th>rec_min_lang</th>\n",
       "    </tr>\n",
       "  </thead>\n",
       "  <tbody>\n",
       "    <tr>\n",
       "      <th>6</th>\n",
       "      <td>Nahuatl_language</td>\n",
       "      <td>['Uto-Aztecan', 'Southern Uto-Aztecan', 'Nahua...</td>\n",
       "      <td>['Western Peripheral Nahuatl', 'Eastern Periph...</td>\n",
       "      <td>nhe Huasteca NahuatlFor other varieties, see N...</td>\n",
       "      <td>NaN</td>\n",
       "      <td>Mexico: Puebla Veracruz Hidalgo Guerrero San L...</td>\n",
       "      <td>Mexico (through the General Law of Linguistic...</td>\n",
       "      <td>NaN</td>\n",
       "    </tr>\n",
       "    <tr>\n",
       "      <th>21</th>\n",
       "      <td>Odia_language</td>\n",
       "      <td>['Indo-European', 'Indo-Iranian', 'Indo-Aryan'...</td>\n",
       "      <td>['Northern', ', Central, ', 'Southern', ', ', ...</td>\n",
       "      <td>ori – inclusive codeIndividual codes:ory – Odi...</td>\n",
       "      <td>NaN</td>\n",
       "      <td>Odisha[a]</td>\n",
       "      <td>India\\nOdisha\\nJharkhand[3] (additional)\\nWes...</td>\n",
       "      <td>NaN</td>\n",
       "    </tr>\n",
       "    <tr>\n",
       "      <th>23</th>\n",
       "      <td>Kendeje_language</td>\n",
       "      <td>['Nilo-Saharan', '?\\n', 'Maban', 'Kenjeje']</td>\n",
       "      <td>['Yaali', 'Faranga']</td>\n",
       "      <td>klf</td>\n",
       "      <td>NaN</td>\n",
       "      <td>Ouaddaï</td>\n",
       "      <td>NaN</td>\n",
       "      <td>NaN</td>\n",
       "    </tr>\n",
       "    <tr>\n",
       "      <th>24</th>\n",
       "      <td>Hindko</td>\n",
       "      <td>['Indo-European', 'Indo-Iranian', 'Indo-Aryan'...</td>\n",
       "      <td>['Peshawari', 'Kohati', 'Awankari', ', ', 'Ghe...</td>\n",
       "      <td>Either:hnd – Southern Hindkohno – Northern Hindko</td>\n",
       "      <td>NaN</td>\n",
       "      <td>Hazara Division, Peshawar, Kohat, Pothohar</td>\n",
       "      <td>NaN</td>\n",
       "      <td>NaN</td>\n",
       "    </tr>\n",
       "    <tr>\n",
       "      <th>26</th>\n",
       "      <td>Fon_language</td>\n",
       "      <td>['Niger–Congo', '?\\n', 'Atlantic–Congo', 'Volt...</td>\n",
       "      <td>['Agbome', 'Arohun', 'Gbekon', 'Kpase']</td>\n",
       "      <td>fon</td>\n",
       "      <td>NaN</td>\n",
       "      <td>NaN</td>\n",
       "      <td>Benin</td>\n",
       "      <td>NaN</td>\n",
       "    </tr>\n",
       "    <tr>\n",
       "      <th>...</th>\n",
       "      <td>...</td>\n",
       "      <td>...</td>\n",
       "      <td>...</td>\n",
       "      <td>...</td>\n",
       "      <td>...</td>\n",
       "      <td>...</td>\n",
       "      <td>...</td>\n",
       "      <td>...</td>\n",
       "    </tr>\n",
       "    <tr>\n",
       "      <th>1297</th>\n",
       "      <td>Coptic_language</td>\n",
       "      <td>['Afro-Asiatic', 'Egyptian', 'Coptic']</td>\n",
       "      <td>['Bohairic', 'Sahidic', 'Akhmimic', 'Lycopolit...</td>\n",
       "      <td>cop</td>\n",
       "      <td>NaN</td>\n",
       "      <td>NaN</td>\n",
       "      <td>NaN</td>\n",
       "      <td>NaN</td>\n",
       "    </tr>\n",
       "    <tr>\n",
       "      <th>1303</th>\n",
       "      <td>Sundanese_language</td>\n",
       "      <td>['Austronesian', 'Malayo-Polynesian', 'dispute...</td>\n",
       "      <td>['Baduy', ' (considered a separate language)',...</td>\n",
       "      <td>Variously:sun – Sundanesebac – Baduy Sundanese...</td>\n",
       "      <td>NaN</td>\n",
       "      <td>West Java, Banten, Jakarta, small parts of wes...</td>\n",
       "      <td>NaN</td>\n",
       "      <td>NaN</td>\n",
       "    </tr>\n",
       "    <tr>\n",
       "      <th>1307</th>\n",
       "      <td>Chhattisgarhi</td>\n",
       "      <td>['Indo-European', 'Indo-Iranian', 'Indo-Aryan'...</td>\n",
       "      <td>['Surgujia']</td>\n",
       "      <td>Either:hne – Chhattisgarhisgj – Surgujia</td>\n",
       "      <td>NaN</td>\n",
       "      <td>Chhattisgarh and a minority of speakers in Odi...</td>\n",
       "      <td>India\\nChhattisgarh (additional)[2]\\n</td>\n",
       "      <td>NaN</td>\n",
       "    </tr>\n",
       "    <tr>\n",
       "      <th>1310</th>\n",
       "      <td>Herero_language</td>\n",
       "      <td>['Niger–Congo', '?\\n', 'Atlantic–Congo', 'Volt...</td>\n",
       "      <td>['Himba', 'Kuvale', 'Zemba', ' (Thimba, ', 'Ot...</td>\n",
       "      <td>her  Herero</td>\n",
       "      <td>NaN</td>\n",
       "      <td>Kunene, Omaheke Region and Otjozondjupa Region...</td>\n",
       "      <td>NaN</td>\n",
       "      <td>NaN</td>\n",
       "    </tr>\n",
       "    <tr>\n",
       "      <th>1327</th>\n",
       "      <td>Yapese_language</td>\n",
       "      <td>['Austronesian', 'Malayo-Polynesian', 'Oceanic...</td>\n",
       "      <td>['Nguluwan']</td>\n",
       "      <td>yap</td>\n",
       "      <td>NaN</td>\n",
       "      <td>Island of Yap</td>\n",
       "      <td>NaN</td>\n",
       "      <td>NaN</td>\n",
       "    </tr>\n",
       "  </tbody>\n",
       "</table>\n",
       "<p>213 rows × 8 columns</p>\n",
       "</div>"
      ],
      "text/plain": [
       "                    lang                                             family  \\\n",
       "6       Nahuatl_language  ['Uto-Aztecan', 'Southern Uto-Aztecan', 'Nahua...   \n",
       "21         Odia_language  ['Indo-European', 'Indo-Iranian', 'Indo-Aryan'...   \n",
       "23      Kendeje_language        ['Nilo-Saharan', '?\\n', 'Maban', 'Kenjeje']   \n",
       "24                Hindko  ['Indo-European', 'Indo-Iranian', 'Indo-Aryan'...   \n",
       "26          Fon_language  ['Niger–Congo', '?\\n', 'Atlantic–Congo', 'Volt...   \n",
       "...                  ...                                                ...   \n",
       "1297     Coptic_language             ['Afro-Asiatic', 'Egyptian', 'Coptic']   \n",
       "1303  Sundanese_language  ['Austronesian', 'Malayo-Polynesian', 'dispute...   \n",
       "1307       Chhattisgarhi  ['Indo-European', 'Indo-Iranian', 'Indo-Aryan'...   \n",
       "1310     Herero_language  ['Niger–Congo', '?\\n', 'Atlantic–Congo', 'Volt...   \n",
       "1327     Yapese_language  ['Austronesian', 'Malayo-Polynesian', 'Oceanic...   \n",
       "\n",
       "                                               dialects  \\\n",
       "6     ['Western Peripheral Nahuatl', 'Eastern Periph...   \n",
       "21    ['Northern', ', Central, ', 'Southern', ', ', ...   \n",
       "23                                 ['Yaali', 'Faranga']   \n",
       "24    ['Peshawari', 'Kohati', 'Awankari', ', ', 'Ghe...   \n",
       "26              ['Agbome', 'Arohun', 'Gbekon', 'Kpase']   \n",
       "...                                                 ...   \n",
       "1297  ['Bohairic', 'Sahidic', 'Akhmimic', 'Lycopolit...   \n",
       "1303  ['Baduy', ' (considered a separate language)',...   \n",
       "1307                                       ['Surgujia']   \n",
       "1310  ['Himba', 'Kuvale', 'Zemba', ' (Thimba, ', 'Ot...   \n",
       "1327                                       ['Nguluwan']   \n",
       "\n",
       "                                               iso3code speakers  \\\n",
       "6     nhe Huasteca NahuatlFor other varieties, see N...      NaN   \n",
       "21    ori – inclusive codeIndividual codes:ory – Odi...      NaN   \n",
       "23                                                  klf      NaN   \n",
       "24    Either:hnd – Southern Hindkohno – Northern Hindko      NaN   \n",
       "26                                                  fon      NaN   \n",
       "...                                                 ...      ...   \n",
       "1297                                                cop      NaN   \n",
       "1303  Variously:sun – Sundanesebac – Baduy Sundanese...      NaN   \n",
       "1307           Either:hne – Chhattisgarhisgj – Surgujia      NaN   \n",
       "1310                                        her  Herero      NaN   \n",
       "1327                                                yap      NaN   \n",
       "\n",
       "                                                regions  \\\n",
       "6     Mexico: Puebla Veracruz Hidalgo Guerrero San L...   \n",
       "21                                            Odisha[a]   \n",
       "23                                              Ouaddaï   \n",
       "24           Hazara Division, Peshawar, Kohat, Pothohar   \n",
       "26                                                  NaN   \n",
       "...                                                 ...   \n",
       "1297                                                NaN   \n",
       "1303  West Java, Banten, Jakarta, small parts of wes...   \n",
       "1307  Chhattisgarh and a minority of speakers in Odi...   \n",
       "1310  Kunene, Omaheke Region and Otjozondjupa Region...   \n",
       "1327                                      Island of Yap   \n",
       "\n",
       "                                               off_lang rec_min_lang  \n",
       "6      Mexico (through the General Law of Linguistic...          NaN  \n",
       "21     India\\nOdisha\\nJharkhand[3] (additional)\\nWes...          NaN  \n",
       "23                                                  NaN          NaN  \n",
       "24                                                  NaN          NaN  \n",
       "26                                                Benin          NaN  \n",
       "...                                                 ...          ...  \n",
       "1297                                                NaN          NaN  \n",
       "1303                                                NaN          NaN  \n",
       "1307              India\\nChhattisgarh (additional)[2]\\n          NaN  \n",
       "1310                                                NaN          NaN  \n",
       "1327                                                NaN          NaN  \n",
       "\n",
       "[213 rows x 8 columns]"
      ]
     },
     "execution_count": 67,
     "metadata": {},
     "output_type": "execute_result"
    }
   ],
   "source": [
    "languages[~languages['dialects'].isnull()]"
   ]
  },
  {
   "cell_type": "code",
   "execution_count": 56,
   "metadata": {},
   "outputs": [
    {
     "data": {
      "text/html": [
       "<div>\n",
       "<style scoped>\n",
       "    .dataframe tbody tr th:only-of-type {\n",
       "        vertical-align: middle;\n",
       "    }\n",
       "\n",
       "    .dataframe tbody tr th {\n",
       "        vertical-align: top;\n",
       "    }\n",
       "\n",
       "    .dataframe thead th {\n",
       "        text-align: right;\n",
       "    }\n",
       "</style>\n",
       "<table border=\"1\" class=\"dataframe\">\n",
       "  <thead>\n",
       "    <tr style=\"text-align: right;\">\n",
       "      <th></th>\n",
       "      <th>lang</th>\n",
       "      <th>family</th>\n",
       "      <th>dialects</th>\n",
       "      <th>iso3code</th>\n",
       "      <th>speakers</th>\n",
       "      <th>regions</th>\n",
       "      <th>off_lang</th>\n",
       "      <th>rec_min_lang</th>\n",
       "    </tr>\n",
       "  </thead>\n",
       "  <tbody>\n",
       "    <tr>\n",
       "      <th>196</th>\n",
       "      <td>Punjabi_language</td>\n",
       "      <td>[]</td>\n",
       "      <td>[]</td>\n",
       "      <td>[Either:pan – Panjabipnb – Western Panjabi]</td>\n",
       "      <td>[]</td>\n",
       "      <td>[Punjab]</td>\n",
       "      <td>[ Pakistan\\n Punjab (provincial)]</td>\n",
       "      <td>[]</td>\n",
       "    </tr>\n",
       "  </tbody>\n",
       "</table>\n",
       "</div>"
      ],
      "text/plain": [
       "                 lang family dialects  \\\n",
       "196  Punjabi_language     []       []   \n",
       "\n",
       "                                        iso3code speakers   regions  \\\n",
       "196  [Either:pan – Panjabipnb – Western Panjabi]       []  [Punjab]   \n",
       "\n",
       "                              off_lang rec_min_lang  \n",
       "196  [ Pakistan\\n Punjab (provincial)]           []  "
      ]
     },
     "execution_count": 56,
     "metadata": {},
     "output_type": "execute_result"
    }
   ],
   "source": [
    "cols = languages.columns[1:]\n",
    "for col in cols: \n",
    "    languages[col] = languages[col].apply(lambda x: [] if pd.isnull(x) else [x])\n",
    "    languages[col] = languages[col].apply(lambda values: [x[:x.find('[')] if '[' in x else x for x in values])\n",
    "languages[languages['lang'].apply(lambda x: 'punjabi' in x.lower())]"
   ]
  },
  {
   "cell_type": "code",
   "execution_count": 22,
   "metadata": {},
   "outputs": [
    {
     "data": {
      "text/html": [
       "<div>\n",
       "<style scoped>\n",
       "    .dataframe tbody tr th:only-of-type {\n",
       "        vertical-align: middle;\n",
       "    }\n",
       "\n",
       "    .dataframe tbody tr th {\n",
       "        vertical-align: top;\n",
       "    }\n",
       "\n",
       "    .dataframe thead th {\n",
       "        text-align: right;\n",
       "    }\n",
       "</style>\n",
       "<table border=\"1\" class=\"dataframe\">\n",
       "  <thead>\n",
       "    <tr style=\"text-align: right;\">\n",
       "      <th></th>\n",
       "      <th>lang</th>\n",
       "      <th>family</th>\n",
       "      <th>dialects</th>\n",
       "      <th>iso3code</th>\n",
       "      <th>speakers</th>\n",
       "      <th>regions</th>\n",
       "      <th>off_lang</th>\n",
       "      <th>rec_min_lang</th>\n",
       "    </tr>\n",
       "  </thead>\n",
       "  <tbody>\n",
       "    <tr>\n",
       "      <th>196</th>\n",
       "      <td>Punjabi_language</td>\n",
       "      <td>[]</td>\n",
       "      <td>[]</td>\n",
       "      <td>[Either:pan – Panjabipnb – Western Panjabi]</td>\n",
       "      <td>[]</td>\n",
       "      <td>[Punjab]</td>\n",
       "      <td>[ Pakistan\\n Punjab (provincial)]</td>\n",
       "      <td>[]</td>\n",
       "    </tr>\n",
       "  </tbody>\n",
       "</table>\n",
       "</div>"
      ],
      "text/plain": [
       "                 lang family dialects  \\\n",
       "196  Punjabi_language     []       []   \n",
       "\n",
       "                                        iso3code speakers   regions  \\\n",
       "196  [Either:pan – Panjabipnb – Western Panjabi]       []  [Punjab]   \n",
       "\n",
       "                              off_lang rec_min_lang  \n",
       "196  [ Pakistan\\n Punjab (provincial)]           []  "
      ]
     },
     "execution_count": 22,
     "metadata": {},
     "output_type": "execute_result"
    }
   ],
   "source": [
    "languages[languages['lang'].apply(lambda x: 'punjabi' in x.lower())]"
   ]
  },
  {
   "cell_type": "code",
   "execution_count": 21,
   "metadata": {},
   "outputs": [
    {
     "data": {
      "text/html": [
       "<div>\n",
       "<style scoped>\n",
       "    .dataframe tbody tr th:only-of-type {\n",
       "        vertical-align: middle;\n",
       "    }\n",
       "\n",
       "    .dataframe tbody tr th {\n",
       "        vertical-align: top;\n",
       "    }\n",
       "\n",
       "    .dataframe thead th {\n",
       "        text-align: right;\n",
       "    }\n",
       "</style>\n",
       "<table border=\"1\" class=\"dataframe\">\n",
       "  <thead>\n",
       "    <tr style=\"text-align: right;\">\n",
       "      <th></th>\n",
       "      <th>lang</th>\n",
       "      <th>family</th>\n",
       "      <th>dialects</th>\n",
       "      <th>iso3code</th>\n",
       "      <th>speakers</th>\n",
       "      <th>regions</th>\n",
       "      <th>off_lang</th>\n",
       "      <th>rec_min_lang</th>\n",
       "    </tr>\n",
       "  </thead>\n",
       "  <tbody>\n",
       "    <tr>\n",
       "      <th>0</th>\n",
       "      <td>Hong_Kong_Special_Administration_Region</td>\n",
       "      <td>[]</td>\n",
       "      <td>[]</td>\n",
       "      <td>[]</td>\n",
       "      <td>[]</td>\n",
       "      <td>[]</td>\n",
       "      <td>[]</td>\n",
       "      <td>[]</td>\n",
       "    </tr>\n",
       "    <tr>\n",
       "      <th>1</th>\n",
       "      <td>Adai_language</td>\n",
       "      <td>[]</td>\n",
       "      <td>[]</td>\n",
       "      <td>[xad]</td>\n",
       "      <td>[]</td>\n",
       "      <td>[Louisiana]</td>\n",
       "      <td>[]</td>\n",
       "      <td>[]</td>\n",
       "    </tr>\n",
       "    <tr>\n",
       "      <th>2</th>\n",
       "      <td>Northern_Ireland</td>\n",
       "      <td>[]</td>\n",
       "      <td>[]</td>\n",
       "      <td>[]</td>\n",
       "      <td>[]</td>\n",
       "      <td>[]</td>\n",
       "      <td>[]</td>\n",
       "      <td>[]</td>\n",
       "    </tr>\n",
       "    <tr>\n",
       "      <th>3</th>\n",
       "      <td>Kapampangan_language</td>\n",
       "      <td>[]</td>\n",
       "      <td>[]</td>\n",
       "      <td>[pam]</td>\n",
       "      <td>[]</td>\n",
       "      <td>[Central Luzon (entirety of Pampanga, southern...</td>\n",
       "      <td>[Angeles City]</td>\n",
       "      <td>[Regional language of the Philippines]</td>\n",
       "    </tr>\n",
       "    <tr>\n",
       "      <th>4</th>\n",
       "      <td>Vlax_Romani_language</td>\n",
       "      <td>[]</td>\n",
       "      <td>[]</td>\n",
       "      <td>[rmy]</td>\n",
       "      <td>[]</td>\n",
       "      <td>[]</td>\n",
       "      <td>[]</td>\n",
       "      <td>[Hungary, Romania, Poland, and Serbia]</td>\n",
       "    </tr>\n",
       "    <tr>\n",
       "      <th>...</th>\n",
       "      <td>...</td>\n",
       "      <td>...</td>\n",
       "      <td>...</td>\n",
       "      <td>...</td>\n",
       "      <td>...</td>\n",
       "      <td>...</td>\n",
       "      <td>...</td>\n",
       "      <td>...</td>\n",
       "    </tr>\n",
       "    <tr>\n",
       "      <th>1325</th>\n",
       "      <td>Maguindanao</td>\n",
       "      <td>[]</td>\n",
       "      <td>[]</td>\n",
       "      <td>[]</td>\n",
       "      <td>[]</td>\n",
       "      <td>[]</td>\n",
       "      <td>[]</td>\n",
       "      <td>[]</td>\n",
       "    </tr>\n",
       "    <tr>\n",
       "      <th>1326</th>\n",
       "      <td>Aas%C3%A1x</td>\n",
       "      <td>[]</td>\n",
       "      <td>[]</td>\n",
       "      <td>[aas]</td>\n",
       "      <td>[]</td>\n",
       "      <td>[Tanzania]</td>\n",
       "      <td>[]</td>\n",
       "      <td>[]</td>\n",
       "    </tr>\n",
       "    <tr>\n",
       "      <th>1327</th>\n",
       "      <td>Yapese_language</td>\n",
       "      <td>[]</td>\n",
       "      <td>[]</td>\n",
       "      <td>[yap]</td>\n",
       "      <td>[]</td>\n",
       "      <td>[Island of Yap]</td>\n",
       "      <td>[]</td>\n",
       "      <td>[]</td>\n",
       "    </tr>\n",
       "    <tr>\n",
       "      <th>1328</th>\n",
       "      <td>Yanesha%27_language</td>\n",
       "      <td>[]</td>\n",
       "      <td>[]</td>\n",
       "      <td>[ame]</td>\n",
       "      <td>[]</td>\n",
       "      <td>[Department of Pasco]</td>\n",
       "      <td>[]</td>\n",
       "      <td>[]</td>\n",
       "    </tr>\n",
       "    <tr>\n",
       "      <th>1329</th>\n",
       "      <td>Guyana</td>\n",
       "      <td>[]</td>\n",
       "      <td>[]</td>\n",
       "      <td>[]</td>\n",
       "      <td>[]</td>\n",
       "      <td>[]</td>\n",
       "      <td>[]</td>\n",
       "      <td>[]</td>\n",
       "    </tr>\n",
       "  </tbody>\n",
       "</table>\n",
       "<p>1330 rows × 8 columns</p>\n",
       "</div>"
      ],
      "text/plain": [
       "                                         lang family dialects iso3code  \\\n",
       "0     Hong_Kong_Special_Administration_Region     []       []       []   \n",
       "1                               Adai_language     []       []    [xad]   \n",
       "2                            Northern_Ireland     []       []       []   \n",
       "3                        Kapampangan_language     []       []    [pam]   \n",
       "4                        Vlax_Romani_language     []       []    [rmy]   \n",
       "...                                       ...    ...      ...      ...   \n",
       "1325                              Maguindanao     []       []       []   \n",
       "1326                               Aas%C3%A1x     []       []    [aas]   \n",
       "1327                          Yapese_language     []       []    [yap]   \n",
       "1328                      Yanesha%27_language     []       []    [ame]   \n",
       "1329                                   Guyana     []       []       []   \n",
       "\n",
       "     speakers                                            regions  \\\n",
       "0          []                                                 []   \n",
       "1          []                                        [Louisiana]   \n",
       "2          []                                                 []   \n",
       "3          []  [Central Luzon (entirety of Pampanga, southern...   \n",
       "4          []                                                 []   \n",
       "...       ...                                                ...   \n",
       "1325       []                                                 []   \n",
       "1326       []                                         [Tanzania]   \n",
       "1327       []                                    [Island of Yap]   \n",
       "1328       []                              [Department of Pasco]   \n",
       "1329       []                                                 []   \n",
       "\n",
       "            off_lang                            rec_min_lang  \n",
       "0                 []                                      []  \n",
       "1                 []                                      []  \n",
       "2                 []                                      []  \n",
       "3     [Angeles City]  [Regional language of the Philippines]  \n",
       "4                 []  [Hungary, Romania, Poland, and Serbia]  \n",
       "...              ...                                     ...  \n",
       "1325              []                                      []  \n",
       "1326              []                                      []  \n",
       "1327              []                                      []  \n",
       "1328              []                                      []  \n",
       "1329              []                                      []  \n",
       "\n",
       "[1330 rows x 8 columns]"
      ]
     },
     "execution_count": 21,
     "metadata": {},
     "output_type": "execute_result"
    }
   ],
   "source": [
    "languages"
   ]
  },
  {
   "cell_type": "code",
   "execution_count": 2,
   "metadata": {},
   "outputs": [],
   "source": [
    "# unesco_languages"
   ]
  },
  {
   "cell_type": "code",
   "execution_count": 1,
   "metadata": {},
   "outputs": [],
   "source": [
    "# languages = languages.merge(unesco_languages, left_on='lang', right_on='Name in English')\n",
    "# print(languages.columns)\n",
    "# languages"
   ]
  }
 ],
 "metadata": {
  "kernelspec": {
   "display_name": "Python 3",
   "language": "python",
   "name": "python3"
  },
  "language_info": {
   "codemirror_mode": {
    "name": "ipython",
    "version": 3
   },
   "file_extension": ".py",
   "mimetype": "text/x-python",
   "name": "python",
   "nbconvert_exporter": "python",
   "pygments_lexer": "ipython3",
   "version": "3.12.3"
  }
 },
 "nbformat": 4,
 "nbformat_minor": 2
}
